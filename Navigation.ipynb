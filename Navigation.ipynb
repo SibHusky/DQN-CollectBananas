{
 "cells": [
  {
   "cell_type": "markdown",
   "metadata": {},
   "source": [
    "# DQN Banana Collector \n",
    "## In an adapted Unity Environment \n",
    "---"
   ]
  },
  {
   "cell_type": "code",
   "execution_count": 1,
   "metadata": {},
   "outputs": [],
   "source": [
    "###follow the links in the readme for setting up the UnityEnvironment\n",
    "from unityagents import UnityEnvironment\n",
    "import numpy as np\n",
    "import os\n",
    "from collections import deque\n",
    "from dqn_agent import Agent\n",
    "import matplotlib.pyplot as plt\n",
    "import torch\n",
    "%matplotlib inline"
   ]
  },
  {
   "cell_type": "markdown",
   "metadata": {},
   "source": [
    "\n",
    "### Load the environment and show some infos\n",
    "Enter the pathname of the Banana Environment App\n",
    "\n"
   ]
  },
  {
   "cell_type": "code",
   "execution_count": 2,
   "metadata": {},
   "outputs": [
    {
     "name": "stderr",
     "output_type": "stream",
     "text": [
      "INFO:unityagents:\n",
      "'Academy' started successfully!\n",
      "Unity Academy name: Academy\n",
      "        Number of Brains: 1\n",
      "        Number of External Brains : 1\n",
      "        Lesson number : 0\n",
      "        Reset Parameters :\n",
      "\t\t\n",
      "Unity brain name: BananaBrain\n",
      "        Number of Visual Observations (per agent): 0\n",
      "        Vector Observation space type: continuous\n",
      "        Vector Observation space size (per agent): 37\n",
      "        Number of stacked Vector Observation: 1\n",
      "        Vector Action space type: discrete\n",
      "        Vector Action space size (per agent): 4\n",
      "        Vector Action descriptions: , , , \n"
     ]
    }
   ],
   "source": [
    "path_BananaApp = \"../../deep-reinforcement-learning/p1_navigation/Banana_Windows_x86_64/Banana_Windows_x86_64/Banana.exe\"\n",
    "#if os.path.isfile(path_BananaApp):\n",
    "    #\n",
    "    #print ('True')\n",
    "env = UnityEnvironment(file_name=path_BananaApp)"
   ]
  },
  {
   "cell_type": "markdown",
   "metadata": {},
   "source": [
    "The following link offers some general informations about the environment, agents, states,...\n",
    "\n",
    "https://github.com/Unity-Technologies/ml-agents/blob/master/docs/Python-API.md\n",
    "\n",
    "---\n",
    "Environments contain brains which are responsible for deciding the actions of their associated agents. Here we check for the first brain available, and set it as the default brain we will be controlling from Python. Only this one brain is used.\n"
   ]
  },
  {
   "cell_type": "code",
   "execution_count": 3,
   "metadata": {},
   "outputs": [
    {
     "name": "stdout",
     "output_type": "stream",
     "text": [
      "Unity brain name: BananaBrain\n",
      "        Number of Visual Observations (per agent): 0\n",
      "        Vector Observation space type: continuous\n",
      "        Vector Observation space size (per agent): 37\n",
      "        Number of stacked Vector Observation: 1\n",
      "        Vector Action space type: discrete\n",
      "        Vector Action space size (per agent): 4\n",
      "        Vector Action descriptions: , , , \n"
     ]
    }
   ],
   "source": [
    "# get the default brain\n",
    "brain_name = env.brain_names[0]\n",
    "brain = env.brains[brain_name]\n",
    "print (brain)"
   ]
  },
  {
   "cell_type": "markdown",
   "metadata": {},
   "source": [
    "### Details\n",
    "#### Actions\n",
    "---\n",
    "The single agent (brain) that is used has at each time step four actions at its disposal:\n",
    "- `0` - walk forward \n",
    "- `1` - walk backward\n",
    "- `2` - turn left\n",
    "- `3` - turn right\n",
    "\n",
    "#### States\n",
    "---\n",
    "The state space has `37` dimensions and contains the agent's velocity, along with ray-based perception of objects around agent's forward direction.\n",
    "\n",
    "#### Rewards\n",
    "---\n",
    "A reward of `+1` is provided for collecting a yellow banana, and a reward of `-1` is provided for collecting a blue banana. \n",
    "\n",
    "#### Done\n",
    "---\n",
    "True if the episode determinates, otherwise Flase"
   ]
  },
  {
   "cell_type": "code",
   "execution_count": 4,
   "metadata": {},
   "outputs": [
    {
     "name": "stdout",
     "output_type": "stream",
     "text": [
      "Number of agents: 1\n",
      "Number of actions: 4\n",
      "States look like: [1.         0.         0.         0.         0.84408134 0.\n",
      " 0.         1.         0.         0.0748472  0.         1.\n",
      " 0.         0.         0.25755    1.         0.         0.\n",
      " 0.         0.74177343 0.         1.         0.         0.\n",
      " 0.25854847 0.         0.         1.         0.         0.09355672\n",
      " 0.         1.         0.         0.         0.31969345 0.\n",
      " 0.        ]\n",
      "Type - states:  <class 'numpy.ndarray'>\n",
      "States have length: 37\n",
      "A Reward looks like:  0.0\n",
      "Type - rewards <class 'float'>\n",
      "Done looks like:  False\n",
      "Type - done:  <class 'bool'>\n"
     ]
    }
   ],
   "source": [
    "###Examine!\n",
    "# reset the environment\n",
    "env_info = env.reset(train_mode=True)[brain_name]\n",
    "\n",
    "# number of agents in the environment\n",
    "print('Number of agents:', len(env_info.agents))\n",
    "\n",
    "# number of actions\n",
    "action_size = brain.vector_action_space_size\n",
    "print('Number of actions:', action_size)\n",
    "\n",
    "# examine the state space \n",
    "state = env_info.vector_observations[0]\n",
    "print('States look like:', state)\n",
    "print ('Type - states: ', type(state))\n",
    "state_size = len(state)\n",
    "print('States have length:', state_size)\n",
    "\n",
    "# About the rewards\n",
    "reward = env_info.rewards[0]\n",
    "print ('A Reward looks like: ', reward)\n",
    "print ('Type - rewards', type(reward))\n",
    "\n",
    "#About dones\n",
    "done = env_info.local_done[0]\n",
    "print ('Done looks like: ', done)\n",
    "print ('Type - done: ', type(done))"
   ]
  },
  {
   "cell_type": "markdown",
   "metadata": {},
   "source": [
    "## Train the agent"
   ]
  },
  {
   "cell_type": "code",
   "execution_count": 5,
   "metadata": {},
   "outputs": [],
   "source": [
    "###Define all the (Hyper)parameters here\n",
    "#DNN\n",
    "list_number_units_hidden = [128,128]\n",
    "learn_rate = 0.0005\n",
    "seed = 0\n",
    "\n",
    "LearningUpdateEvery = 4\n",
    "\n",
    "#ReplayBuffer\n",
    "maxlen = 100000\n",
    "batch_size = 64\n",
    "\n",
    "#Q-stuff\n",
    "eps_start = 1.0\n",
    "eps_min = 0.01\n",
    "eps_decay = 0.999\n",
    "\n",
    "gamma = 0.99\n",
    "tau = 0.001\n",
    "\n",
    "#Allready defined, but to have all together\n",
    "action_size = brain.vector_action_space_size\n",
    "state_size = len(state)\n",
    "\n",
    "#not to forget\n",
    "episodes = 3000"
   ]
  },
  {
   "cell_type": "code",
   "execution_count": 6,
   "metadata": {
    "scrolled": false
   },
   "outputs": [],
   "source": [
    "#Main Algorithm\n",
    "#init\n",
    "\n",
    "def DQN (agent,episodes=episodes,eps_start=eps_start,eps_min=eps_min,eps_decay=eps_decay,train=True):\n",
    "    score_list = []\n",
    "    eps = eps_start \n",
    "    for episode in range(1,episodes+1):\n",
    "        #reset env\n",
    "        env_info = env.reset(train_mode=train)[brain_name]\n",
    "        #get current state \n",
    "        done = env_info.local_done[0]\n",
    "        score = 0\n",
    "\n",
    "        while not done:\n",
    "            state = env_info.vector_observations[0]\n",
    "            #predict action\n",
    "            action = agent.act(state, eps)\n",
    "            #print (\"action: {}\".format(action))\n",
    "            #action --> environment\n",
    "            env_info = env.step(action)[brain_name]\n",
    "            #new state\n",
    "            next_state = env_info.vector_observations[0]\n",
    "            #the reward\n",
    "            reward = env_info.rewards[0]\n",
    "            #finally the determinating info\n",
    "            done = env_info.local_done[0]\n",
    "            #let the agent take his step\n",
    "            if train:\n",
    "                agent.step(state,action,reward,next_state,done,gamma)\n",
    "            ###score calculation\n",
    "            score += reward\n",
    "        score_list.append(score)\n",
    "        #epsilon update\n",
    "        if train:\n",
    "            eps = max(eps_min, eps_decay*eps)\n",
    "        else:\n",
    "            eps = 0.0\n",
    "        #print score\n",
    "        if episode % 100 == 0:\n",
    "            print(\"\\rEpisode {}\\tAverage Score: {:.2f}\".format(episode, np.array(score_list)[-100:].mean()))\n",
    "        if (np.array(score_list)[-100:].mean()) > 13.0 and train:\n",
    "            print(\"\\rEpisode {}\\tAverage Score: {:.2f}\".format(episode, np.array(score_list)[-100:].mean()))\n",
    "            print(\"\\rEnvironment solved in {} episodes.\".format(episode))\n",
    "            torch.save(agent.Q_local.state_dict(), 'James13_dqn.pth')\n",
    "            break\n",
    "\n",
    "    return score_list  "
   ]
  },
  {
   "cell_type": "code",
   "execution_count": 7,
   "metadata": {},
   "outputs": [
    {
     "name": "stdout",
     "output_type": "stream",
     "text": [
      "Episode 100\tAverage Score: 0.22\n",
      "Episode 200\tAverage Score: 0.48\n",
      "Episode 300\tAverage Score: 1.28\n",
      "Episode 400\tAverage Score: 2.30\n",
      "Episode 500\tAverage Score: 3.09\n",
      "Episode 600\tAverage Score: 4.06\n",
      "Episode 700\tAverage Score: 4.75\n",
      "Episode 800\tAverage Score: 6.27\n",
      "Episode 900\tAverage Score: 6.76\n",
      "Episode 1000\tAverage Score: 7.28\n",
      "Episode 1100\tAverage Score: 8.08\n",
      "Episode 1200\tAverage Score: 8.34\n",
      "Episode 1300\tAverage Score: 9.09\n",
      "Episode 1400\tAverage Score: 9.12\n",
      "Episode 1500\tAverage Score: 9.74\n",
      "Episode 1600\tAverage Score: 10.03\n",
      "Episode 1700\tAverage Score: 11.30\n",
      "Episode 1800\tAverage Score: 11.50\n",
      "Episode 1900\tAverage Score: 11.52\n",
      "Episode 2000\tAverage Score: 10.93\n",
      "Episode 2100\tAverage Score: 11.65\n",
      "Episode 2200\tAverage Score: 12.44\n",
      "Episode 2237\tAverage Score: 13.02\n",
      "Environment solved in 2237 episodes.\n"
     ]
    }
   ],
   "source": [
    "James = Agent(state_size,action_size,list_number_units_hidden,seed,learn_rate,LearningUpdateEvery,maxlen,tau)\n",
    "score = DQN(James)"
   ]
  },
  {
   "cell_type": "code",
   "execution_count": 8,
   "metadata": {},
   "outputs": [
    {
     "data": {
      "image/png": "[encoded data removed]",
      "text/plain": [
       "<Figure size 432x288 with 1 Axes>"
      ]
     },
     "metadata": {
      "needs_background": "light"
     },
     "output_type": "display_data"
    }
   ],
   "source": [
    "fig = plt.figure()\n",
    "ax = fig.add_subplot(111)\n",
    "plt.plot(np.arange(len(score)), score)\n",
    "plt.ylabel('Score')\n",
    "plt.xlabel('Episode #')\n",
    "plt.show()   "
   ]
  },
  {
   "cell_type": "code",
   "execution_count": 9,
   "metadata": {},
   "outputs": [
    {
     "name": "stdout",
     "output_type": "stream",
     "text": [
      "\r",
      "Episode 100\tAverage Score: 12.69\n"
     ]
    }
   ],
   "source": [
    "James = Agent(state_size,action_size,list_number_units_hidden,seed,learn_rate,LearningUpdateEvery,maxlen,tau,filename='James13_dqn.pth')\n",
    "score = DQN(James,episodes=100 , train=False)"
   ]
  },
  {
   "cell_type": "code",
   "execution_count": 10,
   "metadata": {},
   "outputs": [],
   "source": [
    "env.close()"
   ]
  },
  {
   "cell_type": "code",
   "execution_count": null,
   "metadata": {},
   "outputs": [],
   "source": []
  }
 ],
 "metadata": {
  "kernelspec": {
   "display_name": "Python 3",
   "language": "python",
   "name": "python3"
  },
  "language_info": {
   "codemirror_mode": {
    "name": "ipython",
    "version": 3
   },
   "file_extension": ".py",
   "mimetype": "text/x-python",
   "name": "python",
   "nbconvert_exporter": "python",
   "pygments_lexer": "ipython3",
   "version": "3.6.8"
  }
 },
 "nbformat": 4,
 "nbformat_minor": 2
}
